{
 "metadata": {
  "kernelspec": {
   "language": "python",
   "display_name": "Python 3",
   "name": "python3"
  },
  "language_info": {
   "name": "python",
   "version": "3.10.12",
   "mimetype": "text/x-python",
   "codemirror_mode": {
    "name": "ipython",
    "version": 3
   },
   "pygments_lexer": "ipython3",
   "nbconvert_exporter": "python",
   "file_extension": ".py"
  },
  "kaggle": {
   "accelerator": "none",
   "dataSources": [
    {
     "sourceId": 10979220,
     "sourceType": "datasetVersion",
     "datasetId": 6832339
    }
   ],
   "dockerImageVersionId": 30918,
   "isInternetEnabled": true,
   "language": "python",
   "sourceType": "notebook",
   "isGpuEnabled": false
  }
 },
 "nbformat_minor": 4,
 "nbformat": 4,
 "cells": [
  {
   "cell_type": "code",
   "source": [
    "import zipfile\n",
    "import pandas as pd\n",
    "import numpy as np\n",
    "import os\n",
    "import glob\n",
    "import shutil"
   ],
   "metadata": {
    "trusted": true,
    "execution": {
     "iopub.status.busy": "2025-03-10T14:32:00.089202Z",
     "iopub.execute_input": "2025-03-10T14:32:00.089698Z",
     "iopub.status.idle": "2025-03-10T14:32:02.971921Z",
     "shell.execute_reply.started": "2025-03-10T14:32:00.089652Z",
     "shell.execute_reply": "2025-03-10T14:32:02.970815Z"
    },
    "ExecuteTime": {
     "end_time": "2025-03-10T17:44:08.148001Z",
     "start_time": "2025-03-10T17:44:07.209073Z"
    }
   },
   "outputs": [],
   "execution_count": 2
  },
  {
   "metadata": {},
   "cell_type": "code",
   "outputs": [],
   "execution_count": null,
   "source": [
    "zip_path = 'telecom1000k_wo_result.zip'\n",
    "extract_to = 'extracted_files'\n",
    "\n",
    "with zipfile.ZipFile(zip_path, 'r') as zip_ref:\n",
    "    zip_ref.extractall(extract_to)\n",
    "\n",
    "for root, dirs, files in os.walk(extract_to):\n",
    "    for file in files:\n",
    "        if ':' in file:\n",
    "            new_name = file.replace(':', '-')\n",
    "            os.rename(os.path.join(root, file), os.path.join(root, new_name))\n",
    "            print(f'Renamed {file} to {new_name}')"
   ]
  },
  {
   "metadata": {},
   "cell_type": "code",
   "outputs": [],
   "execution_count": null,
   "source": [
    "shutil.make_archive(zip_path, 'zip', extract_to)\n",
    "shutil.rmtree(extract_to)"
   ]
  },
  {
   "metadata": {},
   "cell_type": "code",
   "outputs": [],
   "execution_count": null,
   "source": [
    "with zipfile.ZipFile('extracted_files.zip', 'r') as zip_file:\n",
    "    zip_file.extractall()"
   ]
  },
  {
   "cell_type": "code",
   "source": [
    "f_path = 'telecom1000k'\n",
    "f_pattern = 'psx_*.csv'\n",
    "f_paths = glob.glob(os.path.join(f_path, f_pattern))\n",
    "\n",
    "output_f = 'comb_psx_data.csv'\n",
    "\n",
    "with open(output_f, 'w', newline='') as f_out:\n",
    "    first_file = True\n",
    "    for file in f_paths:\n",
    "        for chunk in pd.read_csv(file, chunksize=100000, dtype={'EndSession': 'object'}):\n",
    "            chunk.to_csv(f_out, index=False, header=first_file, mode='a')\n",
    "            first_file = False"
   ],
   "metadata": {
    "trusted": true,
    "execution": {
     "iopub.status.busy": "2025-03-10T14:32:02.973183Z",
     "iopub.execute_input": "2025-03-10T14:32:02.973695Z",
     "iopub.status.idle": "2025-03-10T14:37:29.444244Z",
     "shell.execute_reply.started": "2025-03-10T14:32:02.973656Z",
     "shell.execute_reply": "2025-03-10T14:37:29.442932Z"
    }
   },
   "outputs": [],
   "execution_count": 2
  },
  {
   "cell_type": "code",
   "source": "data = pd.read_csv('comb_psx_data.csv')\ndata.head()",
   "metadata": {
    "trusted": true,
    "execution": {
     "iopub.status.busy": "2025-03-10T14:37:29.446266Z",
     "iopub.execute_input": "2025-03-10T14:37:29.446745Z",
     "iopub.status.idle": "2025-03-10T14:38:48.443640Z",
     "shell.execute_reply.started": "2025-03-10T14:37:29.446676Z",
     "shell.execute_reply": "2025-03-10T14:38:48.442380Z"
    }
   },
   "outputs": [
    {
     "execution_count": 3,
     "output_type": "execute_result",
     "data": {
      "text/plain": "   IdSession  IdPSX  IdSubscriber         StartSession EndSession  Duartion  \\\n0       8913      3        362086  31-12-2023 12:50:15        NaN     57585   \n1       8914      3        277559  31-12-2023 21:12:10        NaN     27470   \n2      31813      3        495588  01-01-2024 02:53:05        NaN      7015   \n3       8915      3        551729  31-12-2023 15:00:32        NaN     49768   \n4       8916      3        777373  31-12-2023 20:13:31        NaN     30989   \n\n         UpTx       DownTx  \n0  1718690230   2253784059  \n1  4902814031  10010727635  \n2   242985980    296186764  \n3  9824381568  24676998355  \n4   240839066    306323953  ",
      "text/html": "<div>\n<style scoped>\n    .dataframe tbody tr th:only-of-type {\n        vertical-align: middle;\n    }\n\n    .dataframe tbody tr th {\n        vertical-align: top;\n    }\n\n    .dataframe thead th {\n        text-align: right;\n    }\n</style>\n<table border=\"1\" class=\"dataframe\">\n  <thead>\n    <tr style=\"text-align: right;\">\n      <th></th>\n      <th>IdSession</th>\n      <th>IdPSX</th>\n      <th>IdSubscriber</th>\n      <th>StartSession</th>\n      <th>EndSession</th>\n      <th>Duartion</th>\n      <th>UpTx</th>\n      <th>DownTx</th>\n    </tr>\n  </thead>\n  <tbody>\n    <tr>\n      <th>0</th>\n      <td>8913</td>\n      <td>3</td>\n      <td>362086</td>\n      <td>31-12-2023 12:50:15</td>\n      <td>NaN</td>\n      <td>57585</td>\n      <td>1718690230</td>\n      <td>2253784059</td>\n    </tr>\n    <tr>\n      <th>1</th>\n      <td>8914</td>\n      <td>3</td>\n      <td>277559</td>\n      <td>31-12-2023 21:12:10</td>\n      <td>NaN</td>\n      <td>27470</td>\n      <td>4902814031</td>\n      <td>10010727635</td>\n    </tr>\n    <tr>\n      <th>2</th>\n      <td>31813</td>\n      <td>3</td>\n      <td>495588</td>\n      <td>01-01-2024 02:53:05</td>\n      <td>NaN</td>\n      <td>7015</td>\n      <td>242985980</td>\n      <td>296186764</td>\n    </tr>\n    <tr>\n      <th>3</th>\n      <td>8915</td>\n      <td>3</td>\n      <td>551729</td>\n      <td>31-12-2023 15:00:32</td>\n      <td>NaN</td>\n      <td>49768</td>\n      <td>9824381568</td>\n      <td>24676998355</td>\n    </tr>\n    <tr>\n      <th>4</th>\n      <td>8916</td>\n      <td>3</td>\n      <td>777373</td>\n      <td>31-12-2023 20:13:31</td>\n      <td>NaN</td>\n      <td>30989</td>\n      <td>240839066</td>\n      <td>306323953</td>\n    </tr>\n  </tbody>\n</table>\n</div>"
     },
     "metadata": {}
    }
   ],
   "execution_count": 3
  },
  {
   "cell_type": "code",
   "source": [
    "f_path = 'telecom1000k'\n",
    "f_pattern = 'psx_*.txt'\n",
    "f_paths = glob.glob(os.path.join(f_path, f_pattern))\n",
    "\n",
    "output_f = 'comb_psx_data1.csv'\n",
    "\n",
    "with open(output_f, 'w', newline='') as f_out:\n",
    "    first_file = True\n",
    "    for file in f_paths:\n",
    "        for chunk in pd.read_csv(file, chunksize=100000, dtype={'EndSession': 'object'}):\n",
    "            chunk.to_csv(f_out, index=False, header=first_file, mode='a')\n",
    "            first_file = False"
   ],
   "metadata": {
    "trusted": true,
    "execution": {
     "iopub.status.busy": "2025-03-10T14:38:48.444752Z",
     "iopub.execute_input": "2025-03-10T14:38:48.445031Z",
     "iopub.status.idle": "2025-03-10T14:42:49.319064Z",
     "shell.execute_reply.started": "2025-03-10T14:38:48.445007Z",
     "shell.execute_reply": "2025-03-10T14:42:49.317125Z"
    }
   },
   "outputs": [],
   "execution_count": 4
  },
  {
   "cell_type": "code",
   "source": "data1 = pd.read_csv('comb_psx_data1.csv', sep = '|')\ndata1.head()",
   "metadata": {
    "trusted": true,
    "execution": {
     "iopub.status.busy": "2025-03-10T14:42:49.320873Z",
     "iopub.execute_input": "2025-03-10T14:42:49.321327Z",
     "iopub.status.idle": "2025-03-10T14:44:33.799094Z",
     "shell.execute_reply.started": "2025-03-10T14:42:49.321282Z",
     "shell.execute_reply": "2025-03-10T14:44:33.797872Z"
    }
   },
   "outputs": [
    {
     "execution_count": 5,
     "output_type": "execute_result",
     "data": {
      "text/plain": "   IdSession  IdPSX  IdSubscriber         StartSession EndSession  Duartion  \\\n0     151369      1        417967  03/01/2024 05:58:05        NaN     27715   \n1     148131      1        298042  03/01/2024 04:26:57        NaN     33183   \n2     149233      1        481882  03/01/2024 04:52:09        NaN     31671   \n3     149234      1        292872  03/01/2024 04:53:51        NaN     31569   \n4     162425      1        687487  03/01/2024 11:19:37        NaN      8423   \n\n          UpTx        DownTx  \n0  10622352648   12825148352  \n1    941365040    1154043248  \n2   2158345192    3218451064  \n3  98246804216  193174707312  \n4   4777507696    5211655008  ",
      "text/html": "<div>\n<style scoped>\n    .dataframe tbody tr th:only-of-type {\n        vertical-align: middle;\n    }\n\n    .dataframe tbody tr th {\n        vertical-align: top;\n    }\n\n    .dataframe thead th {\n        text-align: right;\n    }\n</style>\n<table border=\"1\" class=\"dataframe\">\n  <thead>\n    <tr style=\"text-align: right;\">\n      <th></th>\n      <th>IdSession</th>\n      <th>IdPSX</th>\n      <th>IdSubscriber</th>\n      <th>StartSession</th>\n      <th>EndSession</th>\n      <th>Duartion</th>\n      <th>UpTx</th>\n      <th>DownTx</th>\n    </tr>\n  </thead>\n  <tbody>\n    <tr>\n      <th>0</th>\n      <td>151369</td>\n      <td>1</td>\n      <td>417967</td>\n      <td>03/01/2024 05:58:05</td>\n      <td>NaN</td>\n      <td>27715</td>\n      <td>10622352648</td>\n      <td>12825148352</td>\n    </tr>\n    <tr>\n      <th>1</th>\n      <td>148131</td>\n      <td>1</td>\n      <td>298042</td>\n      <td>03/01/2024 04:26:57</td>\n      <td>NaN</td>\n      <td>33183</td>\n      <td>941365040</td>\n      <td>1154043248</td>\n    </tr>\n    <tr>\n      <th>2</th>\n      <td>149233</td>\n      <td>1</td>\n      <td>481882</td>\n      <td>03/01/2024 04:52:09</td>\n      <td>NaN</td>\n      <td>31671</td>\n      <td>2158345192</td>\n      <td>3218451064</td>\n    </tr>\n    <tr>\n      <th>3</th>\n      <td>149234</td>\n      <td>1</td>\n      <td>292872</td>\n      <td>03/01/2024 04:53:51</td>\n      <td>NaN</td>\n      <td>31569</td>\n      <td>98246804216</td>\n      <td>193174707312</td>\n    </tr>\n    <tr>\n      <th>4</th>\n      <td>162425</td>\n      <td>1</td>\n      <td>687487</td>\n      <td>03/01/2024 11:19:37</td>\n      <td>NaN</td>\n      <td>8423</td>\n      <td>4777507696</td>\n      <td>5211655008</td>\n    </tr>\n  </tbody>\n</table>\n</div>"
     },
     "metadata": {}
    }
   ],
   "execution_count": 5
  },
  {
   "cell_type": "code",
   "source": [
    "subscriber_data = pd.read_csv('telecom1000k/subscribers.csv')\n",
    "client_data = pd.read_parquet('telecom1000k/client.parquet')\n",
    "physical_data = pd.read_parquet('telecom1000k/physical.parquet')\n",
    "company_data = pd.read_parquet('telecom1000k/company.parquet')"
   ],
   "metadata": {
    "trusted": true,
    "execution": {
     "iopub.status.busy": "2025-03-10T14:46:26.256414Z",
     "iopub.execute_input": "2025-03-10T14:46:26.256887Z",
     "iopub.status.idle": "2025-03-10T14:46:36.194563Z",
     "shell.execute_reply.started": "2025-03-10T14:46:26.256854Z",
     "shell.execute_reply": "2025-03-10T14:46:36.193287Z"
    }
   },
   "outputs": [],
   "execution_count": 6
  },
  {
   "cell_type": "code",
   "source": "data = data.merge(subscriber_data, left_on='IdSubscriber', right_on='IdOnPSX')",
   "metadata": {
    "trusted": true,
    "execution": {
     "iopub.status.busy": "2025-03-10T14:46:48.360252Z",
     "iopub.execute_input": "2025-03-10T14:46:48.360631Z",
     "iopub.status.idle": "2025-03-10T14:47:22.864281Z",
     "shell.execute_reply.started": "2025-03-10T14:46:48.360604Z",
     "shell.execute_reply": "2025-03-10T14:47:22.862882Z"
    }
   },
   "outputs": [],
   "execution_count": 7
  },
  {
   "cell_type": "code",
   "source": "del subscriber_data",
   "metadata": {
    "trusted": true,
    "execution": {
     "iopub.status.busy": "2025-03-10T14:47:22.865855Z",
     "iopub.execute_input": "2025-03-10T14:47:22.866252Z",
     "iopub.status.idle": "2025-03-10T14:47:22.895580Z",
     "shell.execute_reply.started": "2025-03-10T14:47:22.866210Z",
     "shell.execute_reply": "2025-03-10T14:47:22.894100Z"
    }
   },
   "outputs": [],
   "execution_count": 8
  },
  {
   "cell_type": "code",
   "source": [
    "data['raznic_uptx_downtx'] = data['UpTx'] - data['DownTx']\n",
    "data['Traffic'] = data['UpTx'] + data['DownTx']"
   ],
   "metadata": {
    "trusted": true,
    "execution": {
     "iopub.status.busy": "2025-03-10T14:47:22.898073Z",
     "iopub.execute_input": "2025-03-10T14:47:22.898495Z",
     "iopub.status.idle": "2025-03-10T14:47:23.287443Z",
     "shell.execute_reply.started": "2025-03-10T14:47:22.898457Z",
     "shell.execute_reply": "2025-03-10T14:47:23.286172Z"
    }
   },
   "outputs": [],
   "execution_count": 9
  },
  {
   "cell_type": "code",
   "source": "lower_percentile = data['raznic_uptx_downtx'].quantile(0.00001)\nupper_percentile = data['raznic_uptx_downtx'].quantile(0.99)\n\noutliers = data[(data['raznic_uptx_downtx'] < lower_percentile) | \n               (data['raznic_uptx_downtx'] > upper_percentile)]\n\nprint(outliers[['IdOnPSX', 'raznic_uptx_downtx']])",
   "metadata": {
    "trusted": true,
    "execution": {
     "iopub.status.busy": "2025-03-10T14:47:23.289107Z",
     "iopub.execute_input": "2025-03-10T14:47:23.289443Z",
     "iopub.status.idle": "2025-03-10T14:47:25.476362Z",
     "shell.execute_reply.started": "2025-03-10T14:47:23.289412Z",
     "shell.execute_reply": "2025-03-10T14:47:25.474988Z"
    }
   },
   "outputs": [
    {
     "name": "stdout",
     "text": "          IdOnPSX  raznic_uptx_downtx\n1773       259766          1883538091\n2338       931148           772841489\n2389       361790          1100951596\n7057        81437         24185272189\n8383       967336          1400873023\n...           ...                 ...\n57941150   366776          3417396101\n57941461   838729           899072290\n57941498   831776          1468602682\n57941520   378604          1388338856\n57941667   592850          5249216551\n\n[579998 rows x 2 columns]\n",
     "output_type": "stream"
    }
   ],
   "execution_count": 10
  },
  {
   "cell_type": "code",
   "source": "new_data = outliers.copy()\ndel outliers",
   "metadata": {
    "trusted": true,
    "execution": {
     "iopub.status.busy": "2025-03-10T14:47:25.477369Z",
     "iopub.execute_input": "2025-03-10T14:47:25.477690Z",
     "iopub.status.idle": "2025-03-10T14:47:25.767765Z",
     "shell.execute_reply.started": "2025-03-10T14:47:25.477659Z",
     "shell.execute_reply": "2025-03-10T14:47:25.766579Z"
    }
   },
   "outputs": [],
   "execution_count": 11
  },
  {
   "cell_type": "code",
   "source": "new_data = new_data.merge(client_data, left_on='IdClient', right_on='Id')\ndel client_data\nnew_data['StartSession'] = new_data['StartSession'].fillna('unkown')\nnew_data['TurnOn'] = new_data['Status'].map({'ON': True, 'OFF': False})\nnew_data['Type'] = np.where(\n    new_data['IdClient'].isin(physical_data['Id']), 'P',\n    np.where(new_data['IdClient'].isin(company_data['Id']), 'J', None)\n)\ndel physical_data, company_data",
   "metadata": {
    "trusted": true,
    "execution": {
     "iopub.status.busy": "2025-03-10T14:47:25.768964Z",
     "iopub.execute_input": "2025-03-10T14:47:25.769299Z",
     "iopub.status.idle": "2025-03-10T14:47:27.500894Z",
     "shell.execute_reply.started": "2025-03-10T14:47:25.769263Z",
     "shell.execute_reply": "2025-03-10T14:47:27.499397Z"
    }
   },
   "outputs": [],
   "execution_count": 12
  },
  {
   "cell_type": "code",
   "source": "new_anomaly_data_drop_dupli = new_data.drop_duplicates(\n    subset=['IdOnPSX', 'IdClient', 'Type', 'IdPlan', 'TurnOn']\n)\ndel new_data",
   "metadata": {
    "trusted": true,
    "execution": {
     "iopub.status.busy": "2025-03-10T14:47:27.502068Z",
     "iopub.execute_input": "2025-03-10T14:47:27.502412Z",
     "iopub.status.idle": "2025-03-10T14:47:27.725107Z",
     "shell.execute_reply.started": "2025-03-10T14:47:27.502378Z",
     "shell.execute_reply": "2025-03-10T14:47:27.723869Z"
    }
   },
   "outputs": [],
   "execution_count": 13
  },
  {
   "cell_type": "code",
   "source": "new_anomaly_data_drop_dupli.shape",
   "metadata": {
    "trusted": true,
    "execution": {
     "iopub.status.busy": "2025-03-10T14:24:14.232335Z",
     "iopub.execute_input": "2025-03-10T14:24:14.232662Z",
     "iopub.status.idle": "2025-03-10T14:24:14.238946Z",
     "shell.execute_reply.started": "2025-03-10T14:24:14.232636Z",
     "shell.execute_reply": "2025-03-10T14:24:14.237825Z"
    }
   },
   "outputs": [
    {
     "execution_count": 22,
     "output_type": "execute_result",
     "data": {
      "text/plain": "(2520, 19)"
     },
     "metadata": {}
    }
   ],
   "execution_count": 22
  },
  {
   "cell_type": "code",
   "source": "new_anomaly_data_drop_dupli.columns",
   "metadata": {
    "trusted": true,
    "execution": {
     "iopub.status.busy": "2025-03-10T13:16:32.957051Z",
     "iopub.execute_input": "2025-03-10T13:16:32.957399Z",
     "iopub.status.idle": "2025-03-10T13:16:32.975446Z",
     "shell.execute_reply.started": "2025-03-10T13:16:32.957370Z",
     "shell.execute_reply": "2025-03-10T13:16:32.974167Z"
    }
   },
   "outputs": [
    {
     "execution_count": 17,
     "output_type": "execute_result",
     "data": {
      "text/plain": "Index(['IdSession', 'IdPSX', 'IdSubscriber', 'StartSession', 'EndSession',\n       'Duartion', 'UpTx', 'DownTx', 'IdClient', 'IdOnPSX', 'Status',\n       'raznic_uptx_downtx', 'Id', 'Contract', 'Documents', 'Email', 'IdPlan',\n       'TurnOn', 'Type'],\n      dtype='object')"
     },
     "metadata": {}
    }
   ],
   "execution_count": 17
  },
  {
   "cell_type": "code",
   "source": "del data",
   "metadata": {
    "trusted": true,
    "execution": {
     "iopub.status.busy": "2025-03-10T14:47:27.727668Z",
     "iopub.execute_input": "2025-03-10T14:47:27.728127Z",
     "iopub.status.idle": "2025-03-10T14:47:30.096381Z",
     "shell.execute_reply.started": "2025-03-10T14:47:27.728082Z",
     "shell.execute_reply": "2025-03-10T14:47:30.094564Z"
    }
   },
   "outputs": [],
   "execution_count": 14
  },
  {
   "cell_type": "code",
   "source": "last_data = new_anomaly_data_drop_dupli[['IdSubscriber', 'IdClient', 'Type', 'IdPlan', 'TurnOn', 'Traffic']]",
   "metadata": {
    "trusted": true,
    "execution": {
     "iopub.status.busy": "2025-03-10T14:48:21.962852Z",
     "iopub.execute_input": "2025-03-10T14:48:21.963287Z",
     "iopub.status.idle": "2025-03-10T14:48:21.971145Z",
     "shell.execute_reply.started": "2025-03-10T14:48:21.963248Z",
     "shell.execute_reply": "2025-03-10T14:48:21.969631Z"
    }
   },
   "outputs": [],
   "execution_count": 15
  },
  {
   "cell_type": "code",
   "source": "last_data['Hacked'] = True",
   "metadata": {
    "trusted": true,
    "execution": {
     "iopub.status.busy": "2025-03-10T14:48:22.747157Z",
     "iopub.execute_input": "2025-03-10T14:48:22.747560Z",
     "iopub.status.idle": "2025-03-10T14:48:22.753537Z",
     "shell.execute_reply.started": "2025-03-10T14:48:22.747523Z",
     "shell.execute_reply": "2025-03-10T14:48:22.752305Z"
    }
   },
   "outputs": [
    {
     "name": "stderr",
     "text": "<ipython-input-16-c92a42f1eed7>:1: SettingWithCopyWarning: \nA value is trying to be set on a copy of a slice from a DataFrame.\nTry using .loc[row_indexer,col_indexer] = value instead\n\nSee the caveats in the documentation: https://pandas.pydata.org/pandas-docs/stable/user_guide/indexing.html#returning-a-view-versus-a-copy\n  last_data['Hacked'] = True\n",
     "output_type": "stream"
    }
   ],
   "execution_count": 16
  },
  {
   "cell_type": "code",
   "source": "last_data.to_csv('last_data.csv', index=False)",
   "metadata": {
    "trusted": true,
    "execution": {
     "iopub.status.busy": "2025-03-10T14:48:24.584243Z",
     "iopub.execute_input": "2025-03-10T14:48:24.584682Z",
     "iopub.status.idle": "2025-03-10T14:48:24.601843Z",
     "shell.execute_reply.started": "2025-03-10T14:48:24.584644Z",
     "shell.execute_reply": "2025-03-10T14:48:24.600596Z"
    }
   },
   "outputs": [],
   "execution_count": 17
  },
  {
   "cell_type": "markdown",
   "source": "Вторая половина",
   "metadata": {}
  },
  {
   "cell_type": "code",
   "source": [
    "subscriber_data = pd.read_csv('telecom1000k/subscribers.csv')\n",
    "client_data = pd.read_parquet('telecom1000k/client.parquet')\n",
    "physical_data = pd.read_parquet('telecom1000k/physical.parquet')\n",
    "company_data = pd.read_parquet('telecom1000k/company.parquet')"
   ],
   "metadata": {
    "trusted": true,
    "execution": {
     "iopub.status.busy": "2025-03-10T14:48:47.457672Z",
     "iopub.execute_input": "2025-03-10T14:48:47.458113Z",
     "iopub.status.idle": "2025-03-10T14:48:54.426399Z",
     "shell.execute_reply.started": "2025-03-10T14:48:47.458077Z",
     "shell.execute_reply": "2025-03-10T14:48:54.425224Z"
    }
   },
   "outputs": [],
   "execution_count": 19
  },
  {
   "cell_type": "code",
   "source": "data1 = data1.merge(subscriber_data, left_on='IdSubscriber', right_on='IdOnPSX')",
   "metadata": {
    "trusted": true,
    "execution": {
     "iopub.status.busy": "2025-03-10T14:48:57.780672Z",
     "iopub.execute_input": "2025-03-10T14:48:57.781059Z",
     "iopub.status.idle": "2025-03-10T14:49:32.650892Z",
     "shell.execute_reply.started": "2025-03-10T14:48:57.781029Z",
     "shell.execute_reply": "2025-03-10T14:49:32.649732Z"
    }
   },
   "outputs": [],
   "execution_count": 20
  },
  {
   "cell_type": "code",
   "source": "del subscriber_data",
   "metadata": {
    "trusted": true,
    "execution": {
     "iopub.status.busy": "2025-03-10T14:49:32.652397Z",
     "iopub.execute_input": "2025-03-10T14:49:32.652782Z",
     "iopub.status.idle": "2025-03-10T14:49:32.688103Z",
     "shell.execute_reply.started": "2025-03-10T14:49:32.652739Z",
     "shell.execute_reply": "2025-03-10T14:49:32.686304Z"
    }
   },
   "outputs": [],
   "execution_count": 21
  },
  {
   "cell_type": "code",
   "source": [
    "data1['raznic_uptx_downtx'] = data1['UpTx'] - data1['DownTx']\n",
    "data1['Traffic'] = data1['UpTx'] + data1['DownTx']"
   ],
   "metadata": {
    "trusted": true,
    "execution": {
     "iopub.status.busy": "2025-03-10T14:49:32.689822Z",
     "iopub.execute_input": "2025-03-10T14:49:32.690217Z",
     "iopub.status.idle": "2025-03-10T14:49:33.077530Z",
     "shell.execute_reply.started": "2025-03-10T14:49:32.690171Z",
     "shell.execute_reply": "2025-03-10T14:49:33.076161Z"
    }
   },
   "outputs": [],
   "execution_count": 22
  },
  {
   "cell_type": "code",
   "source": "lower_percentile = data1['raznic_uptx_downtx'].quantile(0.00001)\nupper_percentile = data1['raznic_uptx_downtx'].quantile(0.99)\n\noutliers = data1[(data1['raznic_uptx_downtx'] < lower_percentile) | \n               (data1['raznic_uptx_downtx'] > upper_percentile)]\n\nprint(outliers[['IdOnPSX', 'raznic_uptx_downtx']])",
   "metadata": {
    "trusted": true,
    "execution": {
     "iopub.status.busy": "2025-03-10T14:49:41.734122Z",
     "iopub.execute_input": "2025-03-10T14:49:41.734549Z",
     "iopub.status.idle": "2025-03-10T14:49:44.532428Z",
     "shell.execute_reply.started": "2025-03-10T14:49:41.734509Z",
     "shell.execute_reply": "2025-03-10T14:49:44.531293Z"
    }
   },
   "outputs": [
    {
     "name": "stdout",
     "text": "          IdOnPSX  raznic_uptx_downtx\n20         415318         14034196928\n42         537757          4782413296\n79         345340          8893364840\n201        926212          9623620160\n292         56713          5394910000\n...           ...                 ...\n57589848    52983         16564706520\n57589915   477910          4759393536\n57590080   241579          6969240936\n57590138   647504         11705025704\n57590270   941051          6155163152\n\n[576479 rows x 2 columns]\n",
     "output_type": "stream"
    }
   ],
   "execution_count": 24
  },
  {
   "cell_type": "code",
   "source": "new_data = outliers.copy()\ndel outliers",
   "metadata": {
    "trusted": true,
    "execution": {
     "iopub.status.busy": "2025-03-10T14:49:46.393794Z",
     "iopub.execute_input": "2025-03-10T14:49:46.394192Z",
     "iopub.status.idle": "2025-03-10T14:49:46.682963Z",
     "shell.execute_reply.started": "2025-03-10T14:49:46.394159Z",
     "shell.execute_reply": "2025-03-10T14:49:46.681575Z"
    }
   },
   "outputs": [],
   "execution_count": 25
  },
  {
   "cell_type": "code",
   "source": "new_data = new_data.merge(client_data, left_on='IdClient', right_on='Id')\ndel client_data\nnew_data['StartSession'] = new_data['StartSession'].fillna('unkown')\nnew_data['TurnOn'] = new_data['Status'].map({'ON': True, 'OFF': False})\nnew_data['Type'] = np.where(\n    new_data['IdClient'].isin(physical_data['Id']), 'P',\n    np.where(new_data['IdClient'].isin(company_data['Id']), 'J', None)\n)\ndel physical_data, company_data",
   "metadata": {
    "trusted": true,
    "execution": {
     "iopub.status.busy": "2025-03-10T14:49:48.314406Z",
     "iopub.execute_input": "2025-03-10T14:49:48.314868Z",
     "iopub.status.idle": "2025-03-10T14:49:50.142042Z",
     "shell.execute_reply.started": "2025-03-10T14:49:48.314830Z",
     "shell.execute_reply": "2025-03-10T14:49:50.140831Z"
    }
   },
   "outputs": [],
   "execution_count": 26
  },
  {
   "cell_type": "code",
   "source": "new_anomaly_data_drop_dupli = new_data.drop_duplicates(\n    subset=['IdOnPSX', 'IdClient', 'Type', 'IdPlan', 'TurnOn']\n)\ndel new_data",
   "metadata": {
    "trusted": true,
    "execution": {
     "iopub.status.busy": "2025-03-10T14:49:50.143570Z",
     "iopub.execute_input": "2025-03-10T14:49:50.143973Z",
     "iopub.status.idle": "2025-03-10T14:49:50.378574Z",
     "shell.execute_reply.started": "2025-03-10T14:49:50.143940Z",
     "shell.execute_reply": "2025-03-10T14:49:50.377478Z"
    }
   },
   "outputs": [],
   "execution_count": 27
  },
  {
   "cell_type": "code",
   "source": "new_anomaly_data_drop_dupli.shape",
   "metadata": {
    "trusted": true,
    "execution": {
     "iopub.status.busy": "2025-03-10T14:49:51.385512Z",
     "iopub.execute_input": "2025-03-10T14:49:51.385936Z",
     "iopub.status.idle": "2025-03-10T14:49:51.392649Z",
     "shell.execute_reply.started": "2025-03-10T14:49:51.385902Z",
     "shell.execute_reply": "2025-03-10T14:49:51.391387Z"
    }
   },
   "outputs": [
    {
     "execution_count": 28,
     "output_type": "execute_result",
     "data": {
      "text/plain": "(2543, 19)"
     },
     "metadata": {}
    }
   ],
   "execution_count": 28
  },
  {
   "cell_type": "code",
   "source": "last_data1 = new_anomaly_data_drop_dupli[['IdSubscriber', 'IdClient', 'Type', 'IdPlan', 'TurnOn', 'Traffic']]",
   "metadata": {
    "trusted": true,
    "execution": {
     "iopub.status.busy": "2025-03-10T14:49:58.818256Z",
     "iopub.execute_input": "2025-03-10T14:49:58.818656Z",
     "iopub.status.idle": "2025-03-10T14:49:58.825414Z",
     "shell.execute_reply.started": "2025-03-10T14:49:58.818625Z",
     "shell.execute_reply": "2025-03-10T14:49:58.824111Z"
    }
   },
   "outputs": [],
   "execution_count": 29
  },
  {
   "cell_type": "code",
   "source": "last_data1['Hacked'] = True",
   "metadata": {
    "trusted": true,
    "execution": {
     "iopub.status.busy": "2025-03-10T14:50:00.634021Z",
     "iopub.execute_input": "2025-03-10T14:50:00.634440Z",
     "iopub.status.idle": "2025-03-10T14:50:00.640757Z",
     "shell.execute_reply.started": "2025-03-10T14:50:00.634400Z",
     "shell.execute_reply": "2025-03-10T14:50:00.639335Z"
    }
   },
   "outputs": [
    {
     "name": "stderr",
     "text": "<ipython-input-30-869c22b41e4a>:1: SettingWithCopyWarning: \nA value is trying to be set on a copy of a slice from a DataFrame.\nTry using .loc[row_indexer,col_indexer] = value instead\n\nSee the caveats in the documentation: https://pandas.pydata.org/pandas-docs/stable/user_guide/indexing.html#returning-a-view-versus-a-copy\n  last_data1['Hacked'] = True\n",
     "output_type": "stream"
    }
   ],
   "execution_count": 30
  },
  {
   "cell_type": "code",
   "source": "last_data1.to_csv('last_data1.csv', index=False)",
   "metadata": {
    "trusted": true,
    "execution": {
     "iopub.status.busy": "2025-03-10T14:50:02.353650Z",
     "iopub.execute_input": "2025-03-10T14:50:02.354036Z",
     "iopub.status.idle": "2025-03-10T14:50:02.373396Z",
     "shell.execute_reply.started": "2025-03-10T14:50:02.354005Z",
     "shell.execute_reply": "2025-03-10T14:50:02.372172Z"
    }
   },
   "outputs": [],
   "execution_count": 31
  },
  {
   "cell_type": "code",
   "source": "import gc\ngc.collect()",
   "metadata": {
    "trusted": true,
    "execution": {
     "iopub.status.busy": "2025-03-10T14:50:18.342496Z",
     "iopub.execute_input": "2025-03-10T14:50:18.342930Z",
     "iopub.status.idle": "2025-03-10T14:50:18.440471Z",
     "shell.execute_reply.started": "2025-03-10T14:50:18.342892Z",
     "shell.execute_reply": "2025-03-10T14:50:18.439156Z"
    }
   },
   "outputs": [
    {
     "execution_count": 32,
     "output_type": "execute_result",
     "data": {
      "text/plain": "0"
     },
     "metadata": {}
    }
   ],
   "execution_count": 32
  },
  {
   "cell_type": "code",
   "source": "df1 = pd.read_csv('last_data.csv')\ndf2 = pd.read_csv('last_data1.csv')",
   "metadata": {
    "trusted": true,
    "execution": {
     "iopub.status.busy": "2025-03-10T14:51:14.788797Z",
     "iopub.execute_input": "2025-03-10T14:51:14.789219Z",
     "iopub.status.idle": "2025-03-10T14:51:14.807108Z",
     "shell.execute_reply.started": "2025-03-10T14:51:14.789184Z",
     "shell.execute_reply": "2025-03-10T14:51:14.805824Z"
    }
   },
   "outputs": [],
   "execution_count": 36
  },
  {
   "cell_type": "code",
   "source": "df = pd.concat([df1, df2], ignore_index=True)",
   "metadata": {
    "trusted": true,
    "execution": {
     "iopub.status.busy": "2025-03-10T14:51:46.527617Z",
     "iopub.execute_input": "2025-03-10T14:51:46.528413Z",
     "iopub.status.idle": "2025-03-10T14:51:46.537733Z",
     "shell.execute_reply.started": "2025-03-10T14:51:46.528363Z",
     "shell.execute_reply": "2025-03-10T14:51:46.536553Z"
    }
   },
   "outputs": [],
   "execution_count": 37
  },
  {
   "cell_type": "code",
   "source": "df.shape",
   "metadata": {
    "trusted": true,
    "execution": {
     "iopub.status.busy": "2025-03-10T14:51:56.696196Z",
     "iopub.execute_input": "2025-03-10T14:51:56.696592Z",
     "iopub.status.idle": "2025-03-10T14:51:56.703369Z",
     "shell.execute_reply.started": "2025-03-10T14:51:56.696557Z",
     "shell.execute_reply": "2025-03-10T14:51:56.702119Z"
    }
   },
   "outputs": [
    {
     "execution_count": 39,
     "output_type": "execute_result",
     "data": {
      "text/plain": "(5063, 6)"
     },
     "metadata": {}
    }
   ],
   "execution_count": 39
  },
  {
   "cell_type": "code",
   "source": "df_duplicates = df.drop_duplicates()",
   "metadata": {
    "trusted": true,
    "execution": {
     "iopub.status.busy": "2025-03-10T14:52:13.033150Z",
     "iopub.execute_input": "2025-03-10T14:52:13.033540Z",
     "iopub.status.idle": "2025-03-10T14:52:13.044925Z",
     "shell.execute_reply.started": "2025-03-10T14:52:13.033506Z",
     "shell.execute_reply": "2025-03-10T14:52:13.043721Z"
    }
   },
   "outputs": [],
   "execution_count": 40
  },
  {
   "cell_type": "code",
   "source": "df_duplicates.shape",
   "metadata": {
    "trusted": true,
    "execution": {
     "iopub.status.busy": "2025-03-10T14:52:16.710215Z",
     "iopub.execute_input": "2025-03-10T14:52:16.710665Z",
     "iopub.status.idle": "2025-03-10T14:52:16.717281Z",
     "shell.execute_reply.started": "2025-03-10T14:52:16.710626Z",
     "shell.execute_reply": "2025-03-10T14:52:16.716082Z"
    }
   },
   "outputs": [
    {
     "execution_count": 41,
     "output_type": "execute_result",
     "data": {
      "text/plain": "(4021, 6)"
     },
     "metadata": {}
    }
   ],
   "execution_count": 41
  },
  {
   "metadata": {},
   "cell_type": "code",
   "outputs": [],
   "execution_count": null,
   "source": "df_duplicates['Traffic'] = df_duplicates['Traffic'] / 8192"
  },
  {
   "metadata": {
    "ExecuteTime": {
     "end_time": "2025-03-10T17:46:27.432646Z",
     "start_time": "2025-03-10T17:46:27.425232Z"
    }
   },
   "cell_type": "code",
   "source": "df_duplicates.columns",
   "outputs": [
    {
     "data": {
      "text/plain": [
       "Index(['IdSubscriber', 'IdClient', 'Type', 'IdPlan', 'TurnOn', 'Traffic',\n",
       "       'Hacked'],\n",
       "      dtype='object')"
      ]
     },
     "execution_count": 6,
     "metadata": {},
     "output_type": "execute_result"
    }
   ],
   "execution_count": 6
  },
  {
   "metadata": {
    "ExecuteTime": {
     "end_time": "2025-03-10T17:46:57.270571Z",
     "start_time": "2025-03-10T17:46:57.263846Z"
    }
   },
   "cell_type": "code",
   "source": [
    "df_duplicates = df_duplicates.rename(columns={\n",
    "    'IdSubscriber': 'Id',\n",
    "    'IdClient': 'UID'\n",
    "})"
   ],
   "outputs": [],
   "execution_count": 7
  },
  {
   "metadata": {
    "ExecuteTime": {
     "end_time": "2025-03-10T17:47:25.023669Z",
     "start_time": "2025-03-10T17:47:25.007642Z"
    }
   },
   "cell_type": "code",
   "source": "df_duplicates.to_csv('RESULT.txt', index=False, sep='\\t')",
   "outputs": [],
   "execution_count": 8
  },
  {
   "cell_type": "code",
   "source": "\n",
   "metadata": {
    "trusted": true
   },
   "outputs": [],
   "execution_count": null
  },
  {
   "cell_type": "code",
   "source": "",
   "metadata": {
    "trusted": true
   },
   "outputs": [],
   "execution_count": null
  },
  {
   "cell_type": "code",
   "source": "",
   "metadata": {
    "trusted": true
   },
   "outputs": [],
   "execution_count": null
  }
 ]
}
